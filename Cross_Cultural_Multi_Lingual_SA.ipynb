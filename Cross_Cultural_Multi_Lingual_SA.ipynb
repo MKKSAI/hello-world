{
  "nbformat": 4,
  "nbformat_minor": 0,
  "metadata": {
    "colab": {
      "provenance": [],
      "authorship_tag": "ABX9TyP8IIpgdQBZOsCJlUIlZmkV",
      "include_colab_link": true
    },
    "kernelspec": {
      "name": "python3",
      "display_name": "Python 3"
    },
    "language_info": {
      "name": "python"
    }
  },
  "cells": [
    {
      "cell_type": "markdown",
      "metadata": {
        "id": "view-in-github",
        "colab_type": "text"
      },
      "source": [
        "<a href=\"https://colab.research.google.com/github/MKKSAI/hello-world/blob/master/Cross_Cultural_Multi_Lingual_SA.ipynb\" target=\"_parent\"><img src=\"https://colab.research.google.com/assets/colab-badge.svg\" alt=\"Open In Colab\"/></a>"
      ]
    },
    {
      "cell_type": "code",
      "source": [
        "def main():\n",
        "    log(\"STARTING REPRODUCIBLE VER4 PIPELINE\")\n",
        "    log(\"=\"*70)\n",
        "\n",
        "    # L1\n",
        "    rev, trf, trn, cc_dqi = load_data()\n",
        "\n",
        "    # L2\n",
        "    sent = layer2_sentiment(rev)\n",
        "\n",
        "    # L3\n",
        "    df_feats, X = layer3_features(sent, trf, trn)\n",
        "\n",
        "    # L4\n",
        "    df_all = layer4_segments(df_feats)\n",
        "\n",
        "    # L5\n",
        "    out5 = layer5_predict(df_all, X)\n",
        "    y_test   = out5[\"test\"][\"y\"]\n",
        "    yhat_test= out5[\"test\"][\"yhat\"]\n",
        "    yhat_gb  = out5[\"gb_test_pred\"]\n",
        "    yhat_rf  = out5[\"rf_test_pred\"] # Get RF test predictions\n",
        "    y_cal    = out5[\"cal_2f\"][\"y\"] # Use 2-fold cal data for conformal\n",
        "    yhat_cal = out5[\"cal_2f\"][\"yhat\"] # Use 2-fold cal data for conformal\n",
        "    test_idx = out5[\"test\"][\"idx\"]\n",
        "    final_name = out5[\"final_name\"] # Get the final model name\n",
        "\n",
        "    # L6\n",
        "    _ = layer6_dynamic(sent, df_all, lag_k=1)\n",
        "\n",
        "    # L7\n",
        "    _ = layer7_validate(out5[\"df_all\"], test_idx, y_test, yhat_test, yhat_rf, yhat_gb, final_name) # Pass all 7 arguments\n",
        "\n",
        "\n",
        "    # L8\n",
        "    _ = layer8_eval(y_test, yhat_test, y_cal, yhat_cal)\n",
        "\n",
        "\n",
        "    log(\"\\n\" + \"=\"*70)\n",
        "    log(\"✅ ver4 pipeline completed successfully.\")\n",
        "    log(\"=\"*70)\n",
        "\n",
        "if __name__ == \"__main__\":\n",
        "    main()"
      ],
      "metadata": {
        "colab": {
          "base_uri": "https://localhost:8080/",
          "height": 349
        },
        "id": "iUno-ijeT9je",
        "outputId": "df92bd4c-8227-4ec4-a7a2-2a4015f6be2a"
      },
      "execution_count": 3,
      "outputs": [
        {
          "output_type": "stream",
          "name": "stdout",
          "text": [
            "STARTING REPRODUCIBLE VER4 PIPELINE\n",
            "======================================================================\n"
          ]
        },
        {
          "output_type": "error",
          "ename": "TypeError",
          "evalue": "load_data() missing 3 required positional arguments: 'reviews_path', 'traffic_path', and 'trends_path'",
          "traceback": [
            "\u001b[0;31m---------------------------------------------------------------------------\u001b[0m",
            "\u001b[0;31mTypeError\u001b[0m                                 Traceback (most recent call last)",
            "\u001b[0;32m/tmp/ipython-input-2485781364.py\u001b[0m in \u001b[0;36m<cell line: 0>\u001b[0;34m()\u001b[0m\n\u001b[1;32m     42\u001b[0m \u001b[0;34m\u001b[0m\u001b[0m\n\u001b[1;32m     43\u001b[0m \u001b[0;32mif\u001b[0m \u001b[0m__name__\u001b[0m \u001b[0;34m==\u001b[0m \u001b[0;34m\"__main__\"\u001b[0m\u001b[0;34m:\u001b[0m\u001b[0;34m\u001b[0m\u001b[0;34m\u001b[0m\u001b[0m\n\u001b[0;32m---> 44\u001b[0;31m     \u001b[0mmain\u001b[0m\u001b[0;34m(\u001b[0m\u001b[0;34m)\u001b[0m\u001b[0;34m\u001b[0m\u001b[0;34m\u001b[0m\u001b[0m\n\u001b[0m",
            "\u001b[0;32m/tmp/ipython-input-2485781364.py\u001b[0m in \u001b[0;36mmain\u001b[0;34m()\u001b[0m\n\u001b[1;32m      4\u001b[0m \u001b[0;34m\u001b[0m\u001b[0m\n\u001b[1;32m      5\u001b[0m     \u001b[0;31m# L1\u001b[0m\u001b[0;34m\u001b[0m\u001b[0;34m\u001b[0m\u001b[0m\n\u001b[0;32m----> 6\u001b[0;31m     \u001b[0mrev\u001b[0m\u001b[0;34m,\u001b[0m \u001b[0mtrf\u001b[0m\u001b[0;34m,\u001b[0m \u001b[0mtrn\u001b[0m\u001b[0;34m,\u001b[0m \u001b[0mcc_dqi\u001b[0m \u001b[0;34m=\u001b[0m \u001b[0mload_data\u001b[0m\u001b[0;34m(\u001b[0m\u001b[0;34m)\u001b[0m\u001b[0;34m\u001b[0m\u001b[0;34m\u001b[0m\u001b[0m\n\u001b[0m\u001b[1;32m      7\u001b[0m \u001b[0;34m\u001b[0m\u001b[0m\n\u001b[1;32m      8\u001b[0m     \u001b[0;31m# L2\u001b[0m\u001b[0;34m\u001b[0m\u001b[0;34m\u001b[0m\u001b[0m\n",
            "\u001b[0;31mTypeError\u001b[0m: load_data() missing 3 required positional arguments: 'reviews_path', 'traffic_path', and 'trends_path'"
          ]
        }
      ]
    }
  ]
}